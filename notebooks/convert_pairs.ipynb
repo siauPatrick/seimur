{
 "cells": [
  {
   "cell_type": "markdown",
   "metadata": {},
   "source": [
    "## Interest links\n",
    "### Avito Duplicate Ads Detection\n",
    "* https://www.kaggle.com/c/avito-duplicate-ads-detection/forums/t/22190/solution-sharing\n",
    "* https://github.com/alexeygrigorev/avito-duplicates-kaggle\n",
    "* https://github.com/XAMeLeOH/KAGGLE_AVITO_2016\n",
    "* https://www.kaggle.com/c/avito-duplicate-ads-detection/forums/t/22205/2nd-place-solution-thequants\n",
    "* https://github.com/netease-hzdm/avito-duplicate-ads-detection"
   ]
  },
  {
   "cell_type": "markdown",
   "metadata": {},
   "source": [
    "### Profile field for converting:\n",
    "* age, birthDay, birthMonth, birthYear, birthdateExact - узнать, откуда беруться. В случае отсутсвия заполнять нулями."
   ]
  },
  {
   "cell_type": "code",
   "execution_count": 2,
   "metadata": {
    "collapsed": true
   },
   "outputs": [],
   "source": [
    "import json"
   ]
  },
  {
   "cell_type": "code",
   "execution_count": 3,
   "metadata": {
    "collapsed": false
   },
   "outputs": [],
   "source": [
    "pairs = sc.textFile('/Users/siauz/Projects/ah/al/pair-0').map(json.loads)\n",
    "profile = pairs.first()['up1']"
   ]
  },
  {
   "cell_type": "code",
   "execution_count": 4,
   "metadata": {
    "collapsed": false,
    "scrolled": false
   },
   "outputs": [
    {
     "data": {
      "text/plain": [
       "['age',\n",
       " 'appRatingByCategory',\n",
       " 'bio',\n",
       " 'birthDay',\n",
       " 'birthMonth',\n",
       " 'birthYear',\n",
       " 'birthdateExact',\n",
       " 'businessTripReady',\n",
       " 'cert',\n",
       " 'cgsDone',\n",
       " 'contactNicks',\n",
       " 'contacts',\n",
       " 'coursesAndCertificates',\n",
       " 'displayContacts',\n",
       " 'displayDebugInfo',\n",
       " 'displayLinks',\n",
       " 'displaySkills',\n",
       " 'docId',\n",
       " 'donorDocIds',\n",
       " 'donorProfileTypes',\n",
       " 'downloadTime',\n",
       " 'educations',\n",
       " 'empty',\n",
       " 'firstName',\n",
       " 'gender',\n",
       " 'industry',\n",
       " 'interests',\n",
       " 'jobSeek',\n",
       " 'languages',\n",
       " 'lastName',\n",
       " 'lastPosition',\n",
       " 'links',\n",
       " 'loadedAt',\n",
       " 'location',\n",
       " 'locations',\n",
       " 'mainSkills',\n",
       " 'matchingData',\n",
       " 'mergerInfos',\n",
       " 'name',\n",
       " 'names',\n",
       " 'nationality',\n",
       " 'new',\n",
       " 'nick',\n",
       " 'nicks',\n",
       " 'organization',\n",
       " 'otherInfo',\n",
       " 'permIds',\n",
       " 'pictures',\n",
       " 'portfolio',\n",
       " 'positions',\n",
       " 'preferredContact',\n",
       " 'private',\n",
       " 'profileTypeRaw',\n",
       " 'profileWeight',\n",
       " 'profilesIds',\n",
       " 'projects',\n",
       " 'publications',\n",
       " 'ranking',\n",
       " 'rating',\n",
       " 'ratingOnResources',\n",
       " 'rawGender',\n",
       " 'rawLocations',\n",
       " 'rawSkills',\n",
       " 'rawUrls',\n",
       " 'readyRelocate',\n",
       " 'readyRemoteWork',\n",
       " 'recommendations',\n",
       " 'relationshipStatus',\n",
       " 'resourceStars',\n",
       " 'resumeType',\n",
       " 'resumeTypesDates',\n",
       " 'salary',\n",
       " 'seniorityLevel',\n",
       " 'short',\n",
       " 'skillEstimates',\n",
       " 'skillInfo',\n",
       " 'sources',\n",
       " 'specializations',\n",
       " 'title',\n",
       " 'transportTime',\n",
       " 'updatedAt',\n",
       " 'url',\n",
       " 'userLinks',\n",
       " 'userRankEstimates',\n",
       " 'workHours',\n",
       " 'workYears']"
      ]
     },
     "execution_count": 4,
     "metadata": {},
     "output_type": "execute_result"
    }
   ],
   "source": [
    "sorted(profile.keys())"
   ]
  }
 ],
 "metadata": {
  "anaconda-cloud": {},
  "kernelspec": {
   "display_name": "Python [Root]",
   "language": "python",
   "name": "Python [Root]"
  },
  "language_info": {
   "codemirror_mode": {
    "name": "ipython",
    "version": 3
   },
   "file_extension": ".py",
   "mimetype": "text/x-python",
   "name": "python",
   "nbconvert_exporter": "python",
   "pygments_lexer": "ipython3",
   "version": "3.5.2"
  }
 },
 "nbformat": 4,
 "nbformat_minor": 0
}
